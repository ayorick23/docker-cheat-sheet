{
 "cells": [
  {
   "cell_type": "markdown",
   "id": "bacf7d74",
   "metadata": {},
   "source": [
    "# Análisis de Ventas"
   ]
  },
  {
   "cell_type": "code",
   "execution_count": null,
   "id": "2ab2a5c3",
   "metadata": {},
   "outputs": [],
   "source": [
    "import pandas as pd\n",
    "import matplotlib.pyplot as plt\n",
    "import os"
   ]
  },
  {
   "cell_type": "markdown",
   "id": "54b03228",
   "metadata": {},
   "source": [
    "## 1. Cargar el dataset"
   ]
  },
  {
   "cell_type": "code",
   "execution_count": null,
   "id": "fc3e1643",
   "metadata": {},
   "outputs": [],
   "source": [
    "# La ruta es relativa al directorio /app en el contenedor\n",
    "file_path = 'data/sales_data.csv'\n",
    "\n",
    "if os.path.exists(file_path):\n",
    "    df = pd.read_csv(file_path)\n",
    "    print(\"Dataset cargado correctamente:\")\n",
    "    print(df)\n",
    "else:\n",
    "    print(f\"Error: No se encontró el archivo en {file_path}\")\n",
    "    df = None"
   ]
  },
  {
   "cell_type": "code",
   "execution_count": null,
   "id": "3f6ab8ae",
   "metadata": {},
   "outputs": [],
   "source": [
    "if df is not None:\n",
    "    # --- 2. Preparación de datos ---\n",
    "    # Convertir la columna 'date' a formato de fecha\n",
    "    df['date'] = pd.to_datetime(df['date'])\n",
    "    \n",
    "    # Calcular las ventas totales por región\n",
    "    sales_by_region = df.groupby('region')['sales'].sum().reset_index()\n",
    "    print(\"\\nVentas totales por región:\")\n",
    "    print(sales_by_region)\n",
    "    \n",
    "    # --- 3. Visualización de datos ---\n",
    "    # Crear un gráfico de barras para las ventas por región\n",
    "    plt.figure(figsize=(8, 6))\n",
    "    plt.bar(sales_by_region['region'], sales_by_region['sales'], color=['skyblue', 'salmon'])\n",
    "    plt.title('Ventas Totales por Región')\n",
    "    plt.xlabel('Región')\n",
    "    plt.ylabel('Ventas Totales')\n",
    "    plt.grid(axis='y', linestyle='--', alpha=0.7)\n",
    "    \n",
    "    # Guardar el gráfico\n",
    "    plot_filename = 'sales_by_region.png'\n",
    "    plt.savefig(plot_filename)\n",
    "    print(f\"\\nGráfico guardado como '{plot_filename}'\")\n",
    "    \n",
    "    plt.show()"
   ]
  },
  {
   "cell_type": "markdown",
   "id": "dd4d9935",
   "metadata": {},
   "source": []
  }
 ],
 "metadata": {
  "language_info": {
   "name": "python"
  }
 },
 "nbformat": 4,
 "nbformat_minor": 5
}
